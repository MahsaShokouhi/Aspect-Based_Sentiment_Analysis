{
 "cells": [
  {
   "cell_type": "code",
   "execution_count": null,
   "metadata": {},
   "outputs": [],
   "source": [
    "'''This script finds discussion subjects in a review and the descriptors \n",
    "used by the reviewers to express their views on the subject'''"
   ]
  },
  {
   "cell_type": "code",
   "execution_count": null,
   "metadata": {},
   "outputs": [],
   "source": [
    "import pandas as pd\n",
    "from itertools import chain\n",
    "from collections import Counter\n",
    "\n",
    "import spacy\n",
    "import en_core_web_sm\n",
    "\n",
    "# load the nlp model for POS and dependency tagging\n",
    "nlp = spacy.load(\"en_core_web_sm\")"
   ]
  },
  {
   "cell_type": "code",
   "execution_count": null,
   "metadata": {},
   "outputs": [],
   "source": [
    "def get_descriptors(text):\n",
    "    '''get adjectives for a subject/noun'''\n",
    "\n",
    "    def is_adjective(token):\n",
    "        '''return whether or not a token is an adjective.'''\n",
    "        return token.dep_ == 'amod' or token.pos_ == 'ADJ'\n",
    "\n",
    "    def get_children(token):\n",
    "        '''get a list reprsenting all adjectives that are either first \n",
    "        or second order children of a given token.'''\n",
    "        first_ch = [child for child in token.children\n",
    "                    if child.pos_ not in ['AUX', 'VERB']]\n",
    "        second_ch = [list(ch.children) for ch in first_ch]\n",
    "        second_ch = list(chain.from_iterable(second_ch))  # convert to 1D list\n",
    "        return first_ch + second_ch\n",
    "\n",
    "    subjects_descriptors = {}\n",
    "    for token in nlp(text):\n",
    "        # adjectives for subjects\n",
    "        if token.dep_ == 'nsubj' and token.pos_ != 'PRON':\n",
    "            descriptors = []\n",
    "            # descriptive adjectives\n",
    "            adjectives = [child for child in get_children(token)\n",
    "                          if is_adjective(child)]\n",
    "            descriptors.extend(adjectives)\n",
    "            # predicate adjectives (using a linking verb)\n",
    "            if token.head.pos_ in ['AUX', 'VERB']:\n",
    "                descriptors.extend([child for child in get_children(token.head)\n",
    "                                    if is_adjective(child)])\n",
    "            descriptors = list(set(descriptors))\n",
    "            subjects_descriptors[token] = descriptors\n",
    "        # adjectives for non-subject nouns\n",
    "        elif token.pos_ in ['NOUN', 'PROPN']:\n",
    "            subjects_descriptors[token] = [child for child in get_children(token)\n",
    "                                           if is_adjective(child)]\n",
    "        else:\n",
    "            continue\n",
    "    return subjects_descriptors"
   ]
  }
 ],
 "metadata": {
  "interpreter": {
   "hash": "d4ac09b38d166dbca7997503e2f8ba62bbddecf14766209de136e6dae14b97bd"
  },
  "kernelspec": {
   "display_name": "Python 3.7.11 64-bit ('NLP': conda)",
   "language": "python",
   "name": "python3"
  },
  "language_info": {
   "name": "python",
   "version": "3.7.11"
  },
  "orig_nbformat": 4
 },
 "nbformat": 4,
 "nbformat_minor": 2
}
